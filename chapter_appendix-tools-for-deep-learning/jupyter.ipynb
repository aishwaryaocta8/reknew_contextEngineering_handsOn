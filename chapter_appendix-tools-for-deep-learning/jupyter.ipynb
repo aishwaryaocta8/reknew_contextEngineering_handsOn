{
  "cells": [
    {
      "cell_type": "markdown",
      "id": "31d9a4c9",
      "metadata": {
        "origin_pos": 0,
        "id": "31d9a4c9"
      },
      "source": [
        "# Using Jupyter Notebooks\n",
        ":label:`sec_jupyter`\n",
        "\n",
        "\n",
        "This section describes how to edit and run the code\n",
        "in each section of this book\n",
        "using the Jupyter Notebook. Make sure you have\n",
        "installed Jupyter and downloaded the\n",
        "code as described in\n",
        ":ref:`chap_installation`.\n",
        "If you want to know more about Jupyter see the excellent tutorial in\n",
        "their [documentation](https://jupyter.readthedocs.io/en/latest/).\n",
        "\n",
        "\n",
        "## Editing and Running the Code Locally\n",
        "\n",
        "Suppose that the local path of the book's code is `xx/yy/d2l-en/`. Use the shell to change the directory to this path (`cd xx/yy/d2l-en`) and run the command `jupyter notebook`. If your browser does not do this automatically, open http://localhost:8888 and you will see the interface of Jupyter and all the folders containing the code of the book, as shown in :numref:`fig_jupyter00`.\n",
        "\n",
        "![The folders containing the code of this book.](https://github.com/d2l-ai/d2l-en-colab/blob/master/img/jupyter00.png?raw=1)\n",
        ":width:`600px`\n",
        ":label:`fig_jupyter00`\n",
        "\n",
        "\n",
        "You can access the notebook files by clicking on the folder displayed on the webpage.\n",
        "They usually have the suffix \".ipynb\".\n",
        "For the sake of brevity, we create a temporary \"test.ipynb\" file.\n",
        "The content displayed after you click it is\n",
        "shown in :numref:`fig_jupyter01`.\n",
        "This notebook includes a markdown cell and a code cell. The content in the markdown cell includes \"This Is a Title\" and \"This is text.\".\n",
        "The code cell contains two lines of Python code.\n",
        "\n",
        "![Markdown and code cells in the \"text.ipynb\" file.](https://github.com/d2l-ai/d2l-en-colab/blob/master/img/jupyter01.png?raw=1)\n",
        ":width:`600px`\n",
        ":label:`fig_jupyter01`\n",
        "\n",
        "\n",
        "Double click on the markdown cell to enter edit mode.\n",
        "Add a new text string \"Hello world.\" at the end of the cell, as shown in :numref:`fig_jupyter02`.\n",
        "\n",
        "![Edit the markdown cell.](https://github.com/d2l-ai/d2l-en-colab/blob/master/img/jupyter02.png?raw=1)\n",
        ":width:`600px`\n",
        ":label:`fig_jupyter02`\n",
        "\n",
        "\n",
        "As demonstrated in :numref:`fig_jupyter03`,\n",
        "click \"Cell\" $\\rightarrow$ \"Run Cells\" in the menu bar to run the edited cell.\n",
        "\n",
        "![Run the cell.](https://github.com/d2l-ai/d2l-en-colab/blob/master/img/jupyter03.png?raw=1)\n",
        ":width:`600px`\n",
        ":label:`fig_jupyter03`\n",
        "\n",
        "After running, the markdown cell is shown in :numref:`fig_jupyter04`.\n",
        "\n",
        "![The markdown cell after running.](https://github.com/d2l-ai/d2l-en-colab/blob/master/img/jupyter04.png?raw=1)\n",
        ":width:`600px`\n",
        ":label:`fig_jupyter04`\n",
        "\n",
        "\n",
        "Next, click on the code cell. Multiply the elements by 2 after the last line of code, as shown in :numref:`fig_jupyter05`.\n",
        "\n",
        "![Edit the code cell.](https://github.com/d2l-ai/d2l-en-colab/blob/master/img/jupyter05.png?raw=1)\n",
        ":width:`600px`\n",
        ":label:`fig_jupyter05`\n",
        "\n",
        "\n",
        "You can also run the cell with a shortcut (\"Ctrl + Enter\" by default) and obtain the output result from :numref:`fig_jupyter06`.\n",
        "\n",
        "![Run the code cell to obtain the output.](https://github.com/d2l-ai/d2l-en-colab/blob/master/img/jupyter06.png?raw=1)\n",
        ":width:`600px`\n",
        ":label:`fig_jupyter06`\n",
        "\n",
        "\n",
        "When a notebook contains more cells, we can click \"Kernel\" $\\rightarrow$ \"Restart & Run All\" in the menu bar to run all the cells in the entire notebook. By clicking \"Help\" $\\rightarrow$ \"Edit Keyboard Shortcuts\" in the menu bar, you can edit the shortcuts according to your preferences.\n",
        "\n",
        "## Advanced Options\n",
        "\n",
        "Beyond local editing two things are quite important: editing the notebooks in the markdown format and running Jupyter remotely.\n",
        "The latter matters when we want to run the code on a faster server.\n",
        "The former matters since Jupyter's native ipynb format stores a lot of auxiliary data that is\n",
        "irrelevant to the content,\n",
        "mostly related to how and where the code is run.\n",
        "This is confusing for Git, making\n",
        "reviewing contributions very difficult.\n",
        "Fortunately there is an alternative---native editing in the markdown format.\n",
        "\n",
        "### Markdown Files in Jupyter\n",
        "\n",
        "If you wish to contribute to the content of this book, you need to modify the\n",
        "source file (md file, not ipynb file) on GitHub.\n",
        "Using the notedown plugin we\n",
        "can modify notebooks in the md format directly in Jupyter.\n",
        "\n",
        "\n",
        "First, install the notedown plugin, run the Jupyter Notebook, and load the plugin:\n",
        "\n",
        "```\n",
        "pip install d2l-notedown  # You may need to uninstall the original notedown.\n",
        "jupyter notebook --NotebookApp.contents_manager_class='notedown.NotedownContentsManager'\n",
        "```\n",
        "\n",
        "You may also turn on the notedown plugin by default whenever you run the Jupyter Notebook.\n",
        "First, generate a Jupyter Notebook configuration file (if it has already been generated, you can skip this step).\n",
        "\n",
        "```\n",
        "jupyter notebook --generate-config\n",
        "```\n",
        "\n",
        "Then, add the following line to the end of the Jupyter Notebook configuration file (for Linux or macOS, usually in the path `~/.jupyter/jupyter_notebook_config.py`):\n",
        "\n",
        "```\n",
        "c.NotebookApp.contents_manager_class = 'notedown.NotedownContentsManager'\n",
        "```\n",
        "\n",
        "After that, you only need to run the `jupyter notebook` command to turn on the notedown plugin by default.\n",
        "\n",
        "### Running Jupyter Notebooks on a Remote Server\n",
        "\n",
        "Sometimes, you may want to run Jupyter notebooks on a remote server and access it through a browser on your local computer. If Linux or macOS is installed on your local machine (Windows can also support this function through third-party software such as PuTTY), you can use port forwarding:\n",
        "\n",
        "```\n",
        "ssh myserver -L 8888:localhost:8888\n",
        "```\n",
        "\n",
        "The above string `myserver` is the address of the remote server.\n",
        "Then we can use http://localhost:8888 to access the remote server `myserver` that runs Jupyter notebooks. We will detail on how to run Jupyter notebooks on AWS instances\n",
        "later in this appendix.\n",
        "\n",
        "### Timing\n",
        "\n",
        "We can use the `ExecuteTime` plugin to time the execution of each code cell in Jupyter notebooks.\n",
        "Use the following commands to install the plugin:\n",
        "\n",
        "```\n",
        "pip install jupyter_contrib_nbextensions\n",
        "jupyter contrib nbextension install --user\n",
        "jupyter nbextension enable execute_time/ExecuteTime\n",
        "```\n",
        "\n",
        "## Summary\n",
        "\n",
        "* Using the Jupyter Notebook tool, we can edit, run, and contribute to each section of the book.\n",
        "* We can run Jupyter notebooks on remote servers using port forwarding.\n",
        "\n",
        "\n",
        "## Exercises\n",
        "\n",
        "1. Edit and run the code in this book with the Jupyter Notebook on your local machine.\n",
        "1. Edit and run the code in this book with the Jupyter Notebook *remotely* via port forwarding.\n",
        "1. Compare the running time of the operations $\\mathbf{A}^\\top \\mathbf{B}$ and $\\mathbf{A} \\mathbf{B}$ for two square matrices in $\\mathbb{R}^{1024 \\times 1024}$. Which one is faster?\n",
        "\n",
        "\n",
        "[Discussions](https://discuss.d2l.ai/t/421)\n"
      ]
    },
    {
      "cell_type": "markdown",
      "source": [
        "# INNOMATICS TESTING"
      ],
      "metadata": {
        "id": "c5TIe8wZGi1f"
      },
      "id": "c5TIe8wZGi1f"
    },
    {
      "cell_type": "code",
      "source": [
        "a = 3+4j\n",
        "print(type(a))\n",
        "print(int(a))"
      ],
      "metadata": {
        "id": "lDOimgnNGuwB",
        "outputId": "7b99536b-eb1e-4f87-8c05-b77e702bdb00",
        "colab": {
          "base_uri": "https://localhost:8080/",
          "height": 193
        }
      },
      "id": "lDOimgnNGuwB",
      "execution_count": 15,
      "outputs": [
        {
          "output_type": "stream",
          "name": "stdout",
          "text": [
            "<class 'complex'>\n"
          ]
        },
        {
          "output_type": "error",
          "ename": "TypeError",
          "evalue": "int() argument must be a string, a bytes-like object or a real number, not 'complex'",
          "traceback": [
            "\u001b[0;31m---------------------------------------------------------------------------\u001b[0m",
            "\u001b[0;31mTypeError\u001b[0m                                 Traceback (most recent call last)",
            "\u001b[0;32m/tmp/ipython-input-3821812718.py\u001b[0m in \u001b[0;36m<cell line: 0>\u001b[0;34m()\u001b[0m\n\u001b[1;32m      1\u001b[0m \u001b[0ma\u001b[0m \u001b[0;34m=\u001b[0m \u001b[0;36m3\u001b[0m\u001b[0;34m+\u001b[0m\u001b[0;36m4j\u001b[0m\u001b[0;34m\u001b[0m\u001b[0;34m\u001b[0m\u001b[0m\n\u001b[1;32m      2\u001b[0m \u001b[0mprint\u001b[0m\u001b[0;34m(\u001b[0m\u001b[0mtype\u001b[0m\u001b[0;34m(\u001b[0m\u001b[0ma\u001b[0m\u001b[0;34m)\u001b[0m\u001b[0;34m)\u001b[0m\u001b[0;34m\u001b[0m\u001b[0;34m\u001b[0m\u001b[0m\n\u001b[0;32m----> 3\u001b[0;31m \u001b[0mprint\u001b[0m\u001b[0;34m(\u001b[0m\u001b[0mint\u001b[0m\u001b[0;34m(\u001b[0m\u001b[0ma\u001b[0m\u001b[0;34m)\u001b[0m\u001b[0;34m)\u001b[0m\u001b[0;34m\u001b[0m\u001b[0;34m\u001b[0m\u001b[0m\n\u001b[0m",
            "\u001b[0;31mTypeError\u001b[0m: int() argument must be a string, a bytes-like object or a real number, not 'complex'"
          ]
        }
      ]
    },
    {
      "cell_type": "code",
      "source": [
        "name, MainLineAddress, secondLine, city, state, zip = \"Aishwarya\", \"UTSA BLVD\", \"Apt00\", \"San Ant\", \"TX\", \"78249\"\n",
        "print(name,MainLineAddress,secondLine,city,state,zip,sep='\\n')\n",
        "print(\"\\n\\n\\nHello\",name)"
      ],
      "metadata": {
        "id": "IUMgyfL2G8b1",
        "outputId": "f88c6375-6b2c-4b70-dce9-afea18ebbb07",
        "colab": {
          "base_uri": "https://localhost:8080/"
        }
      },
      "id": "IUMgyfL2G8b1",
      "execution_count": 11,
      "outputs": [
        {
          "output_type": "stream",
          "name": "stdout",
          "text": [
            "Aishwarya\n",
            "UTSA BLVD\n",
            "Apt00\n",
            "San Ant\n",
            "TX\n",
            "78249\n",
            "\n",
            "\n",
            "\n",
            "Hello Aishwarya\n"
          ]
        }
      ]
    },
    {
      "cell_type": "code",
      "source": [
        "small_containers = int(input(\"Enter the number of containers: \"))\n",
        "large_containers = int(input(\"Enter the number of containers: \"))\n",
        "refund = (small_containers * 0.10) + (large_containers * 0.25)\n",
        "print(f\" total refund will be: ${refund:.2f}\")"
      ],
      "metadata": {
        "id": "_KK58W_rHeIC",
        "outputId": "3f7f0dfd-4883-4e26-a14a-7f2900414b13",
        "colab": {
          "base_uri": "https://localhost:8080/"
        }
      },
      "id": "_KK58W_rHeIC",
      "execution_count": 13,
      "outputs": [
        {
          "output_type": "stream",
          "name": "stdout",
          "text": [
            "Enter the number of containers 1 liter or less: 2\n",
            "Enter the number of containers more than 1 liter: 0\n",
            "Your total refund will be: $0.20\n"
          ]
        }
      ]
    },
    {
      "cell_type": "code",
      "source": [
        "a=10\n",
        "b=5\n",
        "print(a+b)\n",
        "print(a-b)\n",
        "print(a*a)\n",
        "print(b^3)\n",
        "print(a/b)\n",
        "print(a%b)\n",
        "print(a//b)"
      ],
      "metadata": {
        "id": "vMkn7_HBJ0kG",
        "outputId": "9eb908f8-2d05-48cb-a51e-32f6f0091be9",
        "colab": {
          "base_uri": "https://localhost:8080/"
        }
      },
      "id": "vMkn7_HBJ0kG",
      "execution_count": 19,
      "outputs": [
        {
          "output_type": "stream",
          "name": "stdout",
          "text": [
            "15\n",
            "5\n",
            "100\n",
            "6\n",
            "2.0\n",
            "0\n",
            "2\n"
          ]
        }
      ]
    },
    {
      "cell_type": "code",
      "source": [
        "a+=2\n",
        "print(a)\n",
        "b-=6\n",
        "print(b)\n",
        "a*=2\n",
        "print(a)\n",
        "a/=3\n",
        "print(a)\n",
        "a%=2\n",
        "print(a)\n"
      ],
      "metadata": {
        "id": "i3ZU1bV1K3V4",
        "outputId": "580ffa9d-13d1-49ab-ff8a-2a323e0d17e7",
        "colab": {
          "base_uri": "https://localhost:8080/"
        }
      },
      "id": "i3ZU1bV1K3V4",
      "execution_count": 25,
      "outputs": [
        {
          "output_type": "stream",
          "name": "stdout",
          "text": [
            "3.333333333333334\n",
            "-7\n",
            "6.666666666666668\n",
            "2.2222222222222228\n",
            "0.22222222222222276\n"
          ]
        }
      ]
    },
    {
      "cell_type": "code",
      "source": [
        "a = 15\n",
        "b = 2\n",
        "print(a>b)\n",
        "print(b>a)\n",
        "print(a==b)\n",
        "print(a>10 and b<5)\n",
        "print(b<1 or a<10)\n",
        "print(not a>b)\n",
        "print(not a>=15)"
      ],
      "metadata": {
        "id": "KfZ3fz7x6JOg",
        "outputId": "8449dc75-695c-4852-c0b5-2a4b767c436f",
        "colab": {
          "base_uri": "https://localhost:8080/"
        }
      },
      "id": "KfZ3fz7x6JOg",
      "execution_count": 18,
      "outputs": [
        {
          "output_type": "stream",
          "name": "stdout",
          "text": [
            "True\n",
            "False\n",
            "False\n",
            "True\n",
            "False\n",
            "False\n",
            "False\n"
          ]
        }
      ]
    },
    {
      "cell_type": "code",
      "source": [
        "a = \"Apple\"\n",
        "b = \"apple\"\n",
        "c = \"Apple\"\n",
        "print(a==b)\n",
        "print(a==b)\n",
        "print ( 'A' in a)  # In checks the presence\n",
        "print ('A' not in a)\n",
        "print('A' in a and \"l\" in a)"
      ],
      "metadata": {
        "id": "zgV6-5eg6ddI",
        "outputId": "44752da1-2344-40e4-bb22-1f5600125bb7",
        "colab": {
          "base_uri": "https://localhost:8080/"
        }
      },
      "id": "zgV6-5eg6ddI",
      "execution_count": 27,
      "outputs": [
        {
          "output_type": "stream",
          "name": "stdout",
          "text": [
            "False\n",
            "False\n",
            "True\n",
            "False\n",
            "True\n"
          ]
        }
      ]
    },
    {
      "cell_type": "code",
      "source": [
        "x,y,z=10,10,6\n",
        "print(x is y)   #IS compares the address of variables\n",
        "print(id(x), id(y))\n",
        "print(x is z)\n",
        "print(x is not z)"
      ],
      "metadata": {
        "id": "bt_-M5a-8VP0",
        "outputId": "92645136-a071-489a-a199-39731c950995",
        "colab": {
          "base_uri": "https://localhost:8080/"
        }
      },
      "id": "bt_-M5a-8VP0",
      "execution_count": 21,
      "outputs": [
        {
          "output_type": "stream",
          "name": "stdout",
          "text": [
            "True\n",
            "11654664 11654664\n",
            "False\n",
            "True\n"
          ]
        }
      ]
    },
    {
      "cell_type": "code",
      "source": [
        "a1 = 8\n",
        "a2 = 10\n",
        "print(a1 & a2) #bitwise AND\n",
        "print (a1 | a2) #OR\n",
        "print ( a1 ^ a2) #NOR\n",
        "print (~a1) #NOT\n",
        "print( a1 << 2) #left shift\n",
        "print ( a1 << 1)\n",
        "print(a1 >> 2) #right shift"
      ],
      "metadata": {
        "id": "9UOaJW9R98Kf",
        "outputId": "88d1df2b-30c9-4833-b154-445637449faf",
        "colab": {
          "base_uri": "https://localhost:8080/"
        }
      },
      "id": "9UOaJW9R98Kf",
      "execution_count": 30,
      "outputs": [
        {
          "output_type": "stream",
          "name": "stdout",
          "text": [
            "8\n",
            "10\n",
            "2\n",
            "-9\n",
            "32\n",
            "16\n",
            "2\n"
          ]
        }
      ]
    },
    {
      "cell_type": "code",
      "source": [
        "a = int(input (\"Enter any number:\"))\n",
        "if a>0:\n",
        "  print(\"Number is positive \")\n",
        "if a<0:\n",
        "  print(\"Number is negative\")\n",
        "if a==0:\n",
        "  print('Number is 0')"
      ],
      "metadata": {
        "id": "buOQf4QeA0F8",
        "outputId": "6148df2e-ce96-43e0-987d-327e4640555d",
        "colab": {
          "base_uri": "https://localhost:8080/"
        }
      },
      "id": "buOQf4QeA0F8",
      "execution_count": 37,
      "outputs": [
        {
          "output_type": "stream",
          "name": "stdout",
          "text": [
            "Enter any number:0\n",
            "Number is 0\n"
          ]
        }
      ]
    },
    {
      "cell_type": "code",
      "source": [
        "month = input(\"Enter your full birth month: \").capitalize()\n",
        "day = int(input(\"Enter the day you are born(1-31): \"))\n",
        "\n",
        "if (month == \"December\" and day >= 22) or (month == \"January\" and day <= 19):\n",
        "    zodiac = \"Capricorn\"\n",
        "elif (month == \"January\" and day >= 20) or (month == \"February\" and day <= 18):\n",
        "    zodiac = \"Aquarius\"\n",
        "elif (month == \"February\" and day >= 19) or (month == \"March\" and day <= 20):\n",
        "    zodiac = \"Pisces\"\n",
        "elif (month == \"March\" and day >= 21) or (month == \"April\" and day <= 19):\n",
        "    zodiac = \"Aries\"\n",
        "elif (month == \"April\" and day >= 20) or (month == \"May\" and day <= 20):\n",
        "    zodiac = \"Taurus\"\n",
        "elif (month == \"May\" and day >= 21) or (month == \"June\" and day <= 20):\n",
        "    zodiac = \"Gemini\"\n",
        "elif (month == \"June\" and day >= 21) or (month == \"July\" and day <= 22):\n",
        "    zodiac = \"Cancer\"\n",
        "elif (month == \"July\" and day >= 23) or (month == \"August\" and day <= 22):\n",
        "    zodiac = \"Leo\"\n",
        "elif (month == \"August\" and day >= 23) or (month == \"September\" and day <= 22):\n",
        "    zodiac = \"Virgo\"\n",
        "elif (month == \"September\" and day >= 23) or (month == \"October\" and day <= 22):\n",
        "    zodiac = \"Libra\"\n",
        "elif (month == \"October\" and day >= 23) or (month == \"November\" and day <= 21):\n",
        "    zodiac = \"Scorpio\"\n",
        "elif (month == \"November\" and day >= 22) or (month == \"December\" and day <= 21):\n",
        "    zodiac = \"Sagittarius\"\n",
        "else:\n",
        "    zodiac = \"Invalid date entered.\"\n",
        "\n",
        "print(f\"Your zodiac sign is {zodiac}\")"
      ],
      "metadata": {
        "id": "J0OHRHhfB7CU",
        "outputId": "0206a441-866e-4ed7-8793-a535b410ab7b",
        "colab": {
          "base_uri": "https://localhost:8080/"
        }
      },
      "id": "J0OHRHhfB7CU",
      "execution_count": 38,
      "outputs": [
        {
          "output_type": "stream",
          "name": "stdout",
          "text": [
            "Enter your full birth month: OCTOBER\n",
            "Enter the day you are born(1-31): 08\n",
            "Your zodiac sign is Libra\n"
          ]
        }
      ]
    },
    {
      "cell_type": "code",
      "source": [
        "attendance = float(input(\"Enter attendance percentage: \"))\n",
        "score = float(input(\"Enter score percentage: \"))\n",
        "\n",
        "if attendance > 65 and score >= 50:\n",
        "    print(\"Student is promoted.\")\n",
        "else:\n",
        "    print(\"Student is not promoted.\")"
      ],
      "metadata": {
        "id": "D3bbEyw6EsrK",
        "outputId": "149308ad-c370-41f6-853b-5b3f703e0661",
        "colab": {
          "base_uri": "https://localhost:8080/"
        }
      },
      "id": "D3bbEyw6EsrK",
      "execution_count": 39,
      "outputs": [
        {
          "output_type": "stream",
          "name": "stdout",
          "text": [
            "Enter attendance percentage: 45\n",
            "Enter score percentage: 8\n",
            "Student is not promoted.\n"
          ]
        }
      ]
    },
    {
      "cell_type": "code",
      "source": [
        "sides = int(input(\"Enter the num of sides (limit 3-10):\"))\n",
        "if sides == 3:\n",
        "  print(\"the shape is triangle\")\n",
        "if sides == 4:\n",
        "  print(\"the shape is Quadrilateral\")\n",
        "if sides == 5:\n",
        "  print(\"the shape is Pentagon\")\n",
        "if sides == 6:\n",
        "  print(\"the shape is Hexagon\")\n",
        "if sides == 7:\n",
        "  print(\"the shape is heptagon\")\n",
        "if sides == 8:\n",
        "  print(\"the shape is octagon\")\n",
        "if sides == 9:\n",
        "  print(\"the shape is nonagon\")\n",
        "if sides == 10:\n",
        "  print(\"the shape is decagon\")"
      ],
      "metadata": {
        "id": "lek7ebpvFRjl",
        "outputId": "716e421e-46df-48c5-a13c-ac6aff3dc1e0",
        "colab": {
          "base_uri": "https://localhost:8080/"
        }
      },
      "id": "lek7ebpvFRjl",
      "execution_count": 41,
      "outputs": [
        {
          "output_type": "stream",
          "name": "stdout",
          "text": [
            "Enter the num of sides (limit 3-10):8\n",
            "the shape is octagon\n"
          ]
        }
      ]
    },
    {
      "cell_type": "code",
      "source": [
        "name = \"AiShu here\"\n",
        "print(name)\n",
        "print(type(name))\n",
        "print(len(name))\n",
        "name2 = \"AISHU.\"\n",
        "print(len(name2))\n",
        "print(name.title())\n",
        "print(name.upper())\n",
        "print(name.lower())\n",
        "print(name.count(\"s\"))\n",
        "print(name.capitalize())\n",
        "print(name.find(\"h\"))     #gives position\n",
        "print(name.index('Sh'))   #same as find\n",
        "print(name.islower())     # returns true/false\n",
        "print(name2.isupper())\n",
        "print(name.isspace())\n",
        "print(name.startswith(\"A\"))\n",
        "print(name2.endswith(\"a\"))\n",
        "print(name.replace(\"here\", \"Here\"))\n",
        "print(name.strip('u'))\n",
        "print(name.split())\n",
        "print(name.lstrip(\"A\"))\n",
        "print(name.rsplit('e'))"
      ],
      "metadata": {
        "id": "VXK7_5zZGgrX",
        "outputId": "e4b124bc-14a6-48e6-d9a9-cfdf146dae15",
        "colab": {
          "base_uri": "https://localhost:8080/"
        }
      },
      "id": "VXK7_5zZGgrX",
      "execution_count": 75,
      "outputs": [
        {
          "output_type": "stream",
          "name": "stdout",
          "text": [
            "AiShu here\n",
            "<class 'str'>\n",
            "10\n",
            "6\n",
            "Aishu Here\n",
            "AISHU HERE\n",
            "aishu here\n",
            "0\n",
            "Aishu here\n",
            "3\n",
            "2\n",
            "False\n",
            "True\n",
            "False\n",
            "True\n",
            "False\n",
            "AiShu Here\n",
            "AiShu here\n",
            "['AiShu', 'here']\n",
            "iShu here\n",
            "['AiShu h', 'r', '']\n"
          ]
        }
      ]
    },
    {
      "cell_type": "markdown",
      "source": [
        "String Functions"
      ],
      "metadata": {
        "id": "gurxbatWMSFk"
      },
      "id": "gurxbatWMSFk"
    },
    {
      "cell_type": "code",
      "source": [
        "import string\n",
        "print(string.ascii_letters)\n",
        "print(string.lowercase)\n",
        "print(string.uppercase)\n",
        "print(string.digits)\n",
        "print(string.punctuation)\n",
        "print(string.ascii_lowercase)"
      ],
      "metadata": {
        "id": "-VopOzoGG_v_",
        "outputId": "c01961f9-751c-4b24-b37f-ecb732c52c1f",
        "colab": {
          "base_uri": "https://localhost:8080/",
          "height": 228
        }
      },
      "id": "-VopOzoGG_v_",
      "execution_count": 76,
      "outputs": [
        {
          "output_type": "stream",
          "name": "stdout",
          "text": [
            "abcdefghijklmnopqrstuvwxyzABCDEFGHIJKLMNOPQRSTUVWXYZ\n"
          ]
        },
        {
          "output_type": "error",
          "ename": "AttributeError",
          "evalue": "module 'string' has no attribute 'lowercase'",
          "traceback": [
            "\u001b[0;31m---------------------------------------------------------------------------\u001b[0m",
            "\u001b[0;31mAttributeError\u001b[0m                            Traceback (most recent call last)",
            "\u001b[0;32m/tmp/ipython-input-3252749958.py\u001b[0m in \u001b[0;36m<cell line: 0>\u001b[0;34m()\u001b[0m\n\u001b[1;32m      1\u001b[0m \u001b[0;32mimport\u001b[0m \u001b[0mstring\u001b[0m\u001b[0;34m\u001b[0m\u001b[0;34m\u001b[0m\u001b[0m\n\u001b[1;32m      2\u001b[0m \u001b[0mprint\u001b[0m\u001b[0;34m(\u001b[0m\u001b[0mstring\u001b[0m\u001b[0;34m.\u001b[0m\u001b[0mascii_letters\u001b[0m\u001b[0;34m)\u001b[0m\u001b[0;34m\u001b[0m\u001b[0;34m\u001b[0m\u001b[0m\n\u001b[0;32m----> 3\u001b[0;31m \u001b[0mprint\u001b[0m\u001b[0;34m(\u001b[0m\u001b[0mstring\u001b[0m\u001b[0;34m.\u001b[0m\u001b[0mlowercase\u001b[0m\u001b[0;34m)\u001b[0m\u001b[0;34m\u001b[0m\u001b[0;34m\u001b[0m\u001b[0m\n\u001b[0m\u001b[1;32m      4\u001b[0m \u001b[0mprint\u001b[0m\u001b[0;34m(\u001b[0m\u001b[0mstring\u001b[0m\u001b[0;34m.\u001b[0m\u001b[0muppercase\u001b[0m\u001b[0;34m)\u001b[0m\u001b[0;34m\u001b[0m\u001b[0;34m\u001b[0m\u001b[0m\n\u001b[1;32m      5\u001b[0m \u001b[0mprint\u001b[0m\u001b[0;34m(\u001b[0m\u001b[0mstring\u001b[0m\u001b[0;34m.\u001b[0m\u001b[0mdigits\u001b[0m\u001b[0;34m)\u001b[0m\u001b[0;34m\u001b[0m\u001b[0;34m\u001b[0m\u001b[0m\n",
            "\u001b[0;31mAttributeError\u001b[0m: module 'string' has no attribute 'lowercase'"
          ]
        }
      ]
    },
    {
      "cell_type": "code",
      "source": [
        "print(list(name))\n",
        "print(name.count('e'))\n",
        "inte = [\"10\",\"10\",\"20\",\"40\",\"40\",\"50\",\"40\"]\n",
        "print(inte.count(\"40\"))\n",
        "\n",
        "inte.append(\"98\")\n",
        "print(inte)\n",
        "\n",
        "inte.insert(3,\"25\")\n",
        "print(inte)\n",
        "\n",
        "inte.extend(name)\n",
        "print(inte)\n",
        "\n",
        "print(name+name2)\n",
        "\n",
        "inte.remove('98')       #remove data\n",
        "print(inte)\n",
        "\n",
        "inte.pop(3)             #remove data on position\n",
        "print(inte)\n",
        "\n",
        "inte.reverse()\n",
        "print(inte)"
      ],
      "metadata": {
        "id": "eXgG4fisMmtl",
        "outputId": "4bd1c237-c52b-4f20-853f-b80ef21b0863",
        "colab": {
          "base_uri": "https://localhost:8080/"
        }
      },
      "id": "eXgG4fisMmtl",
      "execution_count": 101,
      "outputs": [
        {
          "output_type": "stream",
          "name": "stdout",
          "text": [
            "['A', 'i', 'S', 'h', 'u', ' ', 'h', 'e', 'r', 'e']\n",
            "2\n",
            "3\n",
            "['10', '10', '20', '40', '40', '50', '40', '98']\n",
            "['10', '10', '20', '25', '40', '40', '50', '40', '98']\n",
            "['10', '10', '20', '25', '40', '40', '50', '40', '98', 'A', 'i', 'S', 'h', 'u', ' ', 'h', 'e', 'r', 'e']\n",
            "AiShu hereAISHU.\n",
            "['10', '10', '20', '25', '40', '40', '50', '40', 'A', 'i', 'S', 'h', 'u', ' ', 'h', 'e', 'r', 'e']\n",
            "['10', '10', '20', '40', '40', '50', '40', 'A', 'i', 'S', 'h', 'u', ' ', 'h', 'e', 'r', 'e']\n",
            "['e', 'r', 'e', 'h', ' ', 'u', 'h', 'S', 'i', 'A', '40', '50', '40', '40', '20', '10', '10']\n"
          ]
        }
      ]
    }
  ],
  "metadata": {
    "kernelspec": {
      "display_name": "Python 3",
      "name": "python3"
    },
    "language_info": {
      "name": "python"
    },
    "required_libs": [],
    "colab": {
      "provenance": []
    }
  },
  "nbformat": 4,
  "nbformat_minor": 5
}